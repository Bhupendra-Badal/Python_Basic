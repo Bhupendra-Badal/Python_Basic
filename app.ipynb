{
 "cells": [
  {
   "cell_type": "code",
   "execution_count": null,
   "metadata": {},
   "outputs": [
    {
     "name": "stdout",
     "output_type": "stream",
     "text": [
      "['John', 'Bob', 'Bhupi']\n",
      "John\n",
      "Bhupi\n",
      "['Dipak', 'Bob', 'Bhupi']\n"
     ]
    }
   ],
   "source": [
    "# Lists\n",
    "names = ['John', 'Bob', 'Bhupi']\n",
    "print(names)\n",
    "print(names[0])\n",
    "print(names[-1])\n",
    "# Modifying\n",
    "names[0] = 'Dipak'\n",
    "print(names)\n"
   ]
  },
  {
   "cell_type": "code",
   "execution_count": null,
   "metadata": {},
   "outputs": [
    {
     "name": "stdout",
     "output_type": "stream",
     "text": [
      "20\n"
     ]
    }
   ],
   "source": [
    "#finding the largest number in a list\n",
    "numbers =[ 2, 4, 5, 10, 8, 20 ]\n",
    "max = numbers[0]\n",
    "for number in numbers:\n",
    "    if number > max:\n",
    "        max = number\n",
    "print(max)\n",
    "    \n",
    "    "
   ]
  },
  {
   "cell_type": "code",
   "execution_count": null,
   "metadata": {},
   "outputs": [
    {
     "data": {
      "text/plain": [
       "2"
      ]
     },
     "execution_count": 22,
     "metadata": {},
     "output_type": "execute_result"
    }
   ],
   "source": [
    "# 2D list / MATRIX\n",
    "matrix = [\n",
    "    [1, 2, 2],\n",
    "    [4, 5, 6],\n",
    "    [7, 8, 9]\n",
    "]\n",
    "matrix[0][1]"
   ]
  },
  {
   "cell_type": "code",
   "execution_count": null,
   "metadata": {},
   "outputs": [
    {
     "name": "stdout",
     "output_type": "stream",
     "text": [
      "[10, 5, 2, 1, 7, 4]\n",
      "1\n",
      "False\n",
      "[1, 2, 4, 5, 7, 10]\n"
     ]
    }
   ],
   "source": [
    "# LIST METHODS\n",
    "numbers = [5, 2, 1, 7, 4]\n",
    "numbers.insert(0, 10)\n",
    "print(numbers)\n",
    "print(numbers.index(5))\n",
    "print(50 in numbers)\n",
    "numbers.sort()\n",
    "print(numbers)"
   ]
  },
  {
   "cell_type": "code",
   "execution_count": null,
   "metadata": {},
   "outputs": [
    {
     "name": "stdout",
     "output_type": "stream",
     "text": [
      "[]\n"
     ]
    }
   ],
   "source": [
    "numbers = [ 1, 1, 2, 2, 3, 3, 4, 4]\n",
    "max = numbers[0]\n",
    "for number in numbers:\n",
    "    if number == numbers[0]:\n",
    "        duplicate = number\n",
    "        numbers.clear()\n",
    "print(numbers)        \n",
    "    "
   ]
  },
  {
   "cell_type": "code",
   "execution_count": null,
   "metadata": {},
   "outputs": [
    {
     "name": "stdout",
     "output_type": "stream",
     "text": [
      "[2, 4, 5, 6]\n"
     ]
    }
   ],
   "source": [
    "numbers = [ 2, 2, 4, 5, 6, 4, 5]\n",
    "uniques = []\n",
    "for number in numbers:\n",
    "    if number not in uniques:\n",
    "        uniques.append(number)\n",
    "print(uniques)\n",
    "        "
   ]
  },
  {
   "cell_type": "code",
   "execution_count": null,
   "metadata": {},
   "outputs": [
    {
     "name": "stdout",
     "output_type": "stream",
     "text": [
      "1\n"
     ]
    }
   ],
   "source": [
    "# TUPLES -- We cannot change items\n",
    "numbers = (1, 2, 3)\n",
    "# numbers[0] = 10\n",
    "print(numbers[0])"
   ]
  },
  {
   "cell_type": "code",
   "execution_count": null,
   "metadata": {},
   "outputs": [],
   "source": [
    "# Unpacking -- used in tuples or list\n",
    "coordinates = (1, 2, 3)\n",
    "# x = coordinates[0]\n",
    "# y = coordinates[1]\n",
    "# z = coordinates[2]\n",
    "x, y, z = coordinates"
   ]
  },
  {
   "cell_type": "code",
   "execution_count": null,
   "metadata": {},
   "outputs": [
    {
     "name": "stdout",
     "output_type": "stream",
     "text": [
      "None\n",
      "Bhupendra Badal\n"
     ]
    }
   ],
   "source": [
    "# DICTIONARIES\n",
    "# each key should be unique\n",
    "customer = {\n",
    "    \"Name\" : \"John Smith\",\n",
    "    \"Age\" : \"30\",\n",
    "    \"is_verified\" : True\n",
    "}\n",
    "customer[\"Name\"] = \"Bhupendra Badal\" # to update the name\n",
    "print(customer.get(\"BOD\")) # returns null value\n",
    "print(customer[\"Name\"]) \n"
   ]
  },
  {
   "cell_type": "code",
   "execution_count": null,
   "metadata": {},
   "outputs": [],
   "source": [
    "phone = int(input(\"Phone: \"))\n",
    "digits = {\n",
    "    \"1\" : \"One\",\n",
    "    \"2\" : \"Two\",\n",
    "    \"3\" : \"Three\",\n",
    "    \"4\" : \"Four\"\n",
    "}\n",
    "output = \"\"\n",
    "for ch in phone:\n",
    "    output += digits.get(ch, \"!\") + \"\"\n",
    "print(output)    "
   ]
  },
  {
   "cell_type": "code",
   "execution_count": 33,
   "metadata": {},
   "outputs": [
    {
     "name": "stdout",
     "output_type": "stream",
     "text": [
      " \n"
     ]
    }
   ],
   "source": [
    "message = input(\">\")\n",
    "words = message.split(\" \")\n",
    "emojis = {\n",
    "    \":)\" : \"😊\",\n",
    "    \":(\" : \"☹️\"\n",
    "}\n",
    "output = \"\"\n",
    "for word in words:\n",
    "    output += emojis.get(word, word) + \" \"\n",
    "print(output)    "
   ]
  },
  {
   "cell_type": "code",
   "execution_count": 16,
   "metadata": {},
   "outputs": [
    {
     "name": "stdout",
     "output_type": "stream",
     "text": [
      "Hi Bhupendra!\n",
      "Welcome aboard\n"
     ]
    }
   ],
   "source": [
    "#FUNCTIONS\n",
    "def greet_user(name):\n",
    "    print('Hi '+ name + \"!\")\n",
    "    print('Welcome aboard')\n",
    "greet_user(\"Bhupendra\")\n"
   ]
  },
  {
   "cell_type": "code",
   "execution_count": 21,
   "metadata": {},
   "outputs": [
    {
     "name": "stdout",
     "output_type": "stream",
     "text": [
      "Hi Bhupendra Badal!\n",
      "Hi Bhupendra Badal !\n",
      "Welcome aboard\n",
      "Finish\n"
     ]
    }
   ],
   "source": [
    "def greet_user(F_name, l_name):\n",
    "    print('Hi '+ F_name +\" \"+ l_name + \"!\")\n",
    "    print(f\"Hi {F_name} {l_name} !\")\n",
    "    print('Welcome aboard')\n",
    "greet_user(\"Bhupendra\",\"Badal\")\n",
    "print(\"Finish\")"
   ]
  },
  {
   "cell_type": "code",
   "execution_count": 29,
   "metadata": {},
   "outputs": [
    {
     "name": "stdout",
     "output_type": "stream",
     "text": [
      "9\n"
     ]
    }
   ],
   "source": [
    "# RETURN \n",
    "def square(number):\n",
    "    return number * number\n",
    "\n",
    "print(square(3))\n",
    "\n"
   ]
  },
  {
   "cell_type": "code",
   "execution_count": 39,
   "metadata": {},
   "outputs": [
    {
     "name": "stdout",
     "output_type": "stream",
     "text": [
      " \n"
     ]
    }
   ],
   "source": [
    "def emoji_converter(message):\n",
    "    words = message.split(\" \")\n",
    "    emojis = {\n",
    "        \":)\" : \"😊\",\n",
    "        \":(\" : \"☹️\"\n",
    "    }\n",
    "    output = \"\"\n",
    "    for word in words:\n",
    "        output += emojis.get(word, word) + \" \"\n",
    "    return output\n",
    "\n",
    "\n",
    "message = input(\">\")\n",
    "print(emoji_converter(message))\n"
   ]
  },
  {
   "cell_type": "code",
   "execution_count": null,
   "metadata": {},
   "outputs": [
    {
     "ename": "ValueError",
     "evalue": "invalid literal for int() with base 10: ''",
     "output_type": "error",
     "traceback": [
      "\u001b[1;31m---------------------------------------------------------------------------\u001b[0m",
      "\u001b[1;31mValueError\u001b[0m                                Traceback (most recent call last)",
      "\u001b[1;32m~\\AppData\\Local\\Temp\\ipykernel_19144\\834500660.py\u001b[0m in \u001b[0;36m<module>\u001b[1;34m\u001b[0m\n\u001b[0;32m      1\u001b[0m \u001b[1;31m#EXCEPTION\u001b[0m\u001b[1;33m\u001b[0m\u001b[1;33m\u001b[0m\u001b[0m\n\u001b[1;32m----> 2\u001b[1;33m \u001b[0mage\u001b[0m \u001b[1;33m=\u001b[0m \u001b[0mint\u001b[0m\u001b[1;33m(\u001b[0m\u001b[0minput\u001b[0m\u001b[1;33m(\u001b[0m\u001b[1;34m\"Age: \"\u001b[0m\u001b[1;33m)\u001b[0m\u001b[1;33m)\u001b[0m\u001b[1;33m\u001b[0m\u001b[1;33m\u001b[0m\u001b[0m\n\u001b[0m\u001b[0;32m      3\u001b[0m \u001b[0mprint\u001b[0m\u001b[1;33m(\u001b[0m\u001b[0mage\u001b[0m\u001b[1;33m)\u001b[0m\u001b[1;33m\u001b[0m\u001b[1;33m\u001b[0m\u001b[0m\n",
      "\u001b[1;31mValueError\u001b[0m: invalid literal for int() with base 10: ''"
     ]
    }
   ],
   "source": [
    "#EXCEPTION \n",
    "try:\n",
    "    age = int(input(\"Age: \"))\n",
    "    print(age)\n",
    "except ValueError:\n",
    "    print(\"Invalid Value\")\n"
   ]
  },
  {
   "cell_type": "code",
   "execution_count": 1,
   "metadata": {},
   "outputs": [
    {
     "name": "stdout",
     "output_type": "stream",
     "text": [
      "Invalid Value\n"
     ]
    }
   ],
   "source": [
    "try:\n",
    "    age = int(input('Age: '))\n",
    "    income = 20000\n",
    "    risk = income / age\n",
    "    print(age)\n",
    "except ValueError:\n",
    "    print(\"Invalid Value\")"
   ]
  },
  {
   "cell_type": "code",
   "execution_count": 11,
   "metadata": {},
   "outputs": [
    {
     "name": "stdout",
     "output_type": "stream",
     "text": [
      "20\n"
     ]
    }
   ],
   "source": [
    "# CLASSES\n",
    "class Point:\n",
    "    def __init__(self, x, y):\n",
    "        self.x = x\n",
    "        self.y = y\n",
    "        \n",
    "    def move(self):\n",
    "        print(\"Move\")\n",
    "    def draw(self):\n",
    "        print(\"Draw\")\n",
    "\n",
    "\n",
    "# point1 = Point()\n",
    "# point1.x = 10\n",
    "# point1.y = 20\n",
    "# print(point1.x)\n",
    "# point1.draw()\n",
    "\n",
    "# point2 = Point()\n",
    "# point2.x = 10\n",
    "# print(point2.x)\n",
    "\n",
    "point = Point(10, 20)\n",
    "point.x = 20\n",
    "print(point.x)\n",
    "\n"
   ]
  },
  {
   "cell_type": "code",
   "execution_count": 18,
   "metadata": {},
   "outputs": [
    {
     "name": "stdout",
     "output_type": "stream",
     "text": [
      "Bhupendra\n",
      "Hi, I am Bhupendra\n"
     ]
    }
   ],
   "source": [
    "#CONSTRUCTOR __init__\n",
    "class Person:\n",
    "    def __init__(self, name):\n",
    "        self.name = name\n",
    "        \n",
    "        \n",
    "    def talk(self):\n",
    "        print(f\"Hi, I am {self.name}\")\n",
    "        \n",
    "        \n",
    "person = Person(\"Bhupendra\")\n",
    "print(person.name)\n",
    "person.talk()"
   ]
  },
  {
   "cell_type": "code",
   "execution_count": 23,
   "metadata": {},
   "outputs": [
    {
     "name": "stdout",
     "output_type": "stream",
     "text": [
      "Cat is walking.\n",
      "Dog is barking.\n",
      "Cat is walking.\n"
     ]
    }
   ],
   "source": [
    "#Inheritance\n",
    "class Mammal:\n",
    "    def walk(self):\n",
    "        print(\"Dog is walking.\")\n",
    "    def walk(self):\n",
    "        print(\"Cat is walking.\")    \n",
    "\n",
    "class Dog(Mammal):\n",
    "    def bark(self):\n",
    "        print(\"Dog is barking.\")\n",
    "class Cat(Mammal):\n",
    "    pass\n",
    "\n",
    "dog1 = Dog()\n",
    "dog1.walk()\n",
    "dog1.bark()\n",
    "cat1 = Cat()\n",
    "cat1.walk()"
   ]
  },
  {
   "cell_type": "code",
   "execution_count": 1,
   "metadata": {},
   "outputs": [],
   "source": [
    "#MODULES\n",
    "import app \n",
    "from app import #ctrl + space to get the functions defined in app \n"
   ]
  },
  {
   "cell_type": "code",
   "execution_count": 3,
   "metadata": {},
   "outputs": [
    {
     "name": "stdout",
     "output_type": "stream",
     "text": [
      "20\n"
     ]
    }
   ],
   "source": [
    "\n",
    "# from utils import find_mas\n",
    "def find_max(numbers):\n",
    "    max = numbers[0]\n",
    "    for number in numbers:\n",
    "        if number > max:\n",
    "            max = number\n",
    "    return max\n",
    "\n",
    "numbers = [1, 5, 10, 20]\n",
    "max = find_max(numbers)\n",
    "print(max)\n"
   ]
  },
  {
   "cell_type": "code",
   "execution_count": 7,
   "metadata": {},
   "outputs": [
    {
     "name": "stdout",
     "output_type": "stream",
     "text": [
      "10\n",
      "10\n",
      "17\n"
     ]
    }
   ],
   "source": [
    "#Packages\n",
    "\n",
    "import random\n",
    "\n",
    "for i in range(3):\n",
    "    result = random.randint(10)\n",
    "    print(result)\n",
    "\n",
    " "
   ]
  },
  {
   "cell_type": "code",
   "execution_count": 10,
   "metadata": {},
   "outputs": [
    {
     "name": "stdout",
     "output_type": "stream",
     "text": [
      "Bhupendra\n"
     ]
    }
   ],
   "source": [
    "\n",
    "#RANDOM MODULE\n",
    "members = [\"Bhupendra\", \"Shahrukh\", \"Amirkhan\"]\n",
    "leader = random.choice(members)\n",
    "print(leader)\n"
   ]
  },
  {
   "cell_type": "code",
   "execution_count": 25,
   "metadata": {},
   "outputs": [
    {
     "name": "stdout",
     "output_type": "stream",
     "text": [
      "2\n"
     ]
    }
   ],
   "source": [
    "side = [\"1\", \"2\", \"3\", \"4\", \"5\", \"6\"]\n",
    "result = random.choice(side)\n",
    "print(result)"
   ]
  },
  {
   "cell_type": "code",
   "execution_count": null,
   "metadata": {},
   "outputs": [],
   "source": [
    "#\n",
    "  "
   ]
  },
  {
   "cell_type": "code",
   "execution_count": null,
   "metadata": {},
   "outputs": [],
   "source": []
  }
 ],
 "metadata": {
  "kernelspec": {
   "display_name": "base",
   "language": "python",
   "name": "python3"
  },
  "language_info": {
   "codemirror_mode": {
    "name": "ipython",
    "version": 3
   },
   "file_extension": ".py",
   "mimetype": "text/x-python",
   "name": "python",
   "nbconvert_exporter": "python",
   "pygments_lexer": "ipython3",
   "version": "3.9.13"
  }
 },
 "nbformat": 4,
 "nbformat_minor": 2
}
